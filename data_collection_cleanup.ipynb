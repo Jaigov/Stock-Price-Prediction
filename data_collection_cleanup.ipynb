{
 "cells": [
  {
   "cell_type": "code",
   "execution_count": 9,
   "metadata": {},
   "outputs": [
    {
     "data": {
      "text/plain": [
       "(   Unnamed: 0 ticker publish_date  \\\n",
       " 0           0   AMZN   2023-10-30   \n",
       " 1           1   AMZN   2023-10-31   \n",
       " 2           2   AMZN   2023-11-10   \n",
       " 3           3   AMZN   2023-11-02   \n",
       " 4           4   AMZN   2023-10-27   \n",
       " \n",
       "                                                title  \\\n",
       " 0  2 Fallen Cybersecurity Stocks for Patient Barg...   \n",
       " 1      3 Reasons Amazon Stock Could Make Fresh Highs   \n",
       " 2           Amazon Stock: Bulls Vulnerable Near $150   \n",
       " 3  Apple Earnings: iPhone, Services Sales and Chi...   \n",
       " 4  Big Week Ahead: Dollar’s Destiny Tied to Treas...   \n",
       " \n",
       "                                            body_text  \\\n",
       " 0  OKTA -3.97% Add to/Remove from Watchlist S -1....   \n",
       " 1  AMZN -0.80% Add to/Remove from Watchlist\\n\\nTh...   \n",
       " 2  AMZN -0.80% Add to/Remove from Watchlist\\n\\nTw...   \n",
       " 3  GOOGL -2.38% Add to/Remove from Watchlist AAPL...   \n",
       " 4  USD/JPY +0.55% Add to/Remove from Watchlist EU...   \n",
       " \n",
       "                                                  url    neg    neu    pos  \\\n",
       " 0  https://www.investing.com/analysis/2-fallen-cy...  0.086  0.800  0.114   \n",
       " 1  https://www.investing.com/analysis/amazon-just...  0.038  0.775  0.186   \n",
       " 2  https://www.investing.com/analysis/amazon-stoc...  0.022  0.861  0.116   \n",
       " 3  https://www.investing.com/analysis/apple-earni...  0.043  0.868  0.089   \n",
       " 4  https://www.investing.com/analysis/big-week-ah...  0.076  0.820  0.104   \n",
       " \n",
       "    compound  \n",
       " 0    0.9899  \n",
       " 1    0.9989  \n",
       " 2    0.9681  \n",
       " 3    0.9920  \n",
       " 4    0.9116  ,\n",
       "    Unnamed: 0 ticker publish_date  \\\n",
       " 0           0   APPL   2023-11-29   \n",
       " 1           1   APPL   2023-11-15   \n",
       " 2           2   APPL   2023-11-28   \n",
       " 3           3   APPL   2023-11-14   \n",
       " 4           4   APPL   2023-11-23   \n",
       " \n",
       "                                                title  \\\n",
       " 0    3 Beaten-Down Stocks Poised for Rebound in 2024   \n",
       " 1  3 Tech Stocks to Buy as Fed Pivot Odds Soar on...   \n",
       " 2        Apple: Can the Stock Continue to Go Higher?   \n",
       " 3  Could a Strong US Dollar Curb Rise of Bitcoin,...   \n",
       " 4  Is Warren Buffett Anticipating a Market Correc...   \n",
       " \n",
       "                                            body_text  \\\n",
       " 0  NDX -0.01% Add to/Remove from Watchlist US500 ...   \n",
       " 1  NDX -0.02% Add to/Remove from Watchlist US500 ...   \n",
       " 2  AAPL +0.18% Add to/Remove from Watchlist\\n\\nAp...   \n",
       " 3  DX +0.71% Add to/Remove from Watchlist IXIC 0....   \n",
       " 4  GM +1.36% Add to/Remove from Watchlist CVX +1....   \n",
       " \n",
       "                                                  url    neg    neu    pos  \\\n",
       " 0  https://www.investing.com/analysis/3-beatendow...  0.032  0.840  0.128   \n",
       " 1  https://www.investing.com/analysis/3-tech-stoc...  0.022  0.830  0.148   \n",
       " 2  https://www.investing.com/analysis/apple-can-t...  0.022  0.904  0.074   \n",
       " 3  https://www.investing.com/analysis/could-a-str...  0.069  0.838  0.093   \n",
       " 4  https://www.investing.com/analysis/is-warren-b...  0.014  0.845  0.141   \n",
       " \n",
       "    compound  \n",
       " 0    0.9987  \n",
       " 1    0.9994  \n",
       " 2    0.9706  \n",
       " 3    0.8191  \n",
       " 4    0.9984  ,\n",
       "    Unnamed: 0 ticker publish_date  \\\n",
       " 0           0   MSFT   2023-11-15   \n",
       " 1           1   MSFT   2023-11-23   \n",
       " 2           2   MSFT   2023-11-21   \n",
       " 3           3   MSFT   2023-11-28   \n",
       " 4           4   MSFT   2023-11-24   \n",
       " \n",
       "                                                title  \\\n",
       " 0  3 Tech Stocks to Buy as Fed Pivot Odds Soar on...   \n",
       " 1          Bitcoin Is a Constant in a World of Drama   \n",
       " 2              Fasten Your Seatbelts: Nvidia Reports   \n",
       " 3                    Is Microsoft the NVIDIA Killer?   \n",
       " 4  Microsoft May Dethrone Apple as the Most Valua...   \n",
       " \n",
       "                                            body_text  \\\n",
       " 0  NDX -0.69% Add to/Remove from Watchlist US500 ...   \n",
       " 1  BTC/USD -0.11% Add to/Remove from Watchlist BT...   \n",
       " 2  NDX -0.68% Add to/Remove from Watchlist US500 ...   \n",
       " 3  NVDA -2.55% Add to/Remove from Watchlist MSFT ...   \n",
       " 4  Amid a surge propelled by AI, Microsoft (NASDA...   \n",
       " \n",
       "                                                  url    neg    neu    pos  \\\n",
       " 0  https://www.investing.com/analysis/3-tech-stoc...  0.022  0.830  0.148   \n",
       " 1  https://www.investing.com/analysis/bitcoin-is-...  0.043  0.833  0.124   \n",
       " 2  https://www.investing.com/analysis/fasten-your...  0.060  0.850  0.090   \n",
       " 3  https://www.investing.com/analysis/is-microsof...  0.023  0.882  0.095   \n",
       " 4  https://www.investing.com/analysis/microsoft-m...  0.023  0.865  0.112   \n",
       " \n",
       "    compound  \n",
       " 0    0.9994  \n",
       " 1    0.9832  \n",
       " 2    0.9700  \n",
       " 3    0.9947  \n",
       " 4    0.9842  )"
      ]
     },
     "execution_count": 9,
     "metadata": {},
     "output_type": "execute_result"
    }
   ],
   "source": [
    "import pandas as pd\n",
    "\n",
    "# Load CSV files\n",
    "file_path_amzn = './Raw Data/csv/AMZN_sentiments_data.csv'\n",
    "file_path_appl = './Raw Data/csv/APPL_sentiments_data.csv'\n",
    "file_path_msft = './Raw Data/csv/MSFT_sentiments_data.csv'\n",
    "\n",
    "data_amzn = pd.read_csv(file_path_amzn)\n",
    "data_appl = pd.read_csv(file_path_appl)\n",
    "data_msft = pd.read_csv(file_path_msft)\n",
    "\n",
    "data_amzn.head(), data_appl.head(), data_msft.head()\n"
   ]
  },
  {
   "cell_type": "code",
   "execution_count": 10,
   "metadata": {},
   "outputs": [
    {
     "data": {
      "text/plain": [
       "['ticker',\n",
       " 'publish_date',\n",
       " 'title',\n",
       " 'body_text',\n",
       " 'url',\n",
       " 'neg',\n",
       " 'neu',\n",
       " 'pos',\n",
       " 'compound']"
      ]
     },
     "execution_count": 10,
     "metadata": {},
     "output_type": "execute_result"
    }
   ],
   "source": [
    "# Removing the 'Unnamed: 0' column\n",
    "data_amzn.drop(columns=['Unnamed: 0'], inplace=True)\n",
    "data_appl.drop(columns=['Unnamed: 0'], inplace=True)\n",
    "data_msft.drop(columns=['Unnamed: 0'], inplace=True)\n",
    "\n",
    "data_amzn.columns.tolist()\n"
   ]
  },
  {
   "cell_type": "code",
   "execution_count": 11,
   "metadata": {},
   "outputs": [
    {
     "data": {
      "text/plain": [
       "(1020, 855, 1008)"
      ]
     },
     "execution_count": 11,
     "metadata": {},
     "output_type": "execute_result"
    }
   ],
   "source": [
    "# Remove duplicate rows from each DataFrame\n",
    "data_amzn = data_amzn.drop_duplicates()\n",
    "data_appl = data_appl.drop_duplicates()\n",
    "data_msft = data_msft.drop_duplicates()\n",
    "\n",
    "len_amzn = len(data_amzn)\n",
    "len_appl = len(data_appl)\n",
    "len_msft = len(data_msft)\n",
    "\n",
    "len_amzn, len_appl, len_msft"
   ]
  },
  {
   "cell_type": "code",
   "execution_count": 12,
   "metadata": {},
   "outputs": [
    {
     "data": {
      "text/plain": [
       "('./Raw Data/pickle/AMZN_sentiments_data.pkl',\n",
       " './Raw Data/pickle/APPL_sentiments_data.pkl',\n",
       " './Raw Data/pickle/MSFT_sentiments_data.pkl')"
      ]
     },
     "execution_count": 12,
     "metadata": {},
     "output_type": "execute_result"
    }
   ],
   "source": [
    "# Save the cleaned DataFrames to pickle (.pkl) files\n",
    "pkl_file_path_amzn = './Raw Data/pickle/AMZN_sentiments_data.pkl'\n",
    "pkl_file_path_appl = './Raw Data/pickle/APPL_sentiments_data.pkl'\n",
    "pkl_file_path_msft = './Raw Data/pickle/MSFT_sentiments_data.pkl'\n",
    "\n",
    "data_amzn.to_pickle(pkl_file_path_amzn)\n",
    "data_appl.to_pickle(pkl_file_path_appl)\n",
    "data_msft.to_pickle(pkl_file_path_msft)\n",
    "\n",
    "pkl_file_path_amzn, pkl_file_path_appl, pkl_file_path_msft"
   ]
  },
  {
   "cell_type": "code",
   "execution_count": null,
   "metadata": {},
   "outputs": [],
   "source": []
  }
 ],
 "metadata": {
  "kernelspec": {
   "display_name": "Python 3",
   "language": "python",
   "name": "python3"
  },
  "language_info": {
   "codemirror_mode": {
    "name": "ipython",
    "version": 3
   },
   "file_extension": ".py",
   "mimetype": "text/x-python",
   "name": "python",
   "nbconvert_exporter": "python",
   "pygments_lexer": "ipython3",
   "version": "3.8.18"
  }
 },
 "nbformat": 4,
 "nbformat_minor": 2
}
